{
  "nbformat": 4,
  "nbformat_minor": 0,
  "metadata": {
    "colab": {
      "name": "assignment_Graphing_DV.ipynb",
      "provenance": [],
      "collapsed_sections": []
    },
    "kernelspec": {
      "name": "python3",
      "display_name": "Python 3"
    },
    "language_info": {
      "name": "python"
    }
  },
  "cells": [
    {
      "cell_type": "code",
      "metadata": {
        "id": "F9vGSto9uUeC"
      },
      "source": [
        "import pandas as pd\n",
        "import numpy as np\n",
        "import matplotlib.pyplot as plt\n",
        "import seaborn as sns\n"
      ],
      "execution_count": 2,
      "outputs": []
    },
    {
      "cell_type": "code",
      "metadata": {
        "colab": {
          "base_uri": "https://localhost:8080/"
        },
        "id": "sOv8Vjyq1oW_",
        "outputId": "89624d29-21e9-4f9e-b0bc-e77613dec108"
      },
      "source": [
        "from google.colab import drive\n",
        "drive.mount('/content/drive')"
      ],
      "execution_count": 3,
      "outputs": [
        {
          "output_type": "stream",
          "text": [
            "Mounted at /content/drive\n"
          ],
          "name": "stdout"
        }
      ]
    },
    {
      "cell_type": "code",
      "metadata": {
        "colab": {
          "base_uri": "https://localhost:8080/",
          "height": 204
        },
        "id": "NlvMpEPn12lL",
        "outputId": "7a129977-4aa8-485a-d50a-72bdc18c9946"
      },
      "source": [
        "filename = ('/content/drive/MyDrive/CodingDojo/DataSet/dataset_ExportApparelUS_DV.xlsx')\n",
        "df = pd.read_excel(filename)\n",
        "df.head()"
      ],
      "execution_count": 4,
      "outputs": [
        {
          "output_type": "execute_result",
          "data": {
            "text/html": [
              "<div>\n",
              "<style scoped>\n",
              "    .dataframe tbody tr th:only-of-type {\n",
              "        vertical-align: middle;\n",
              "    }\n",
              "\n",
              "    .dataframe tbody tr th {\n",
              "        vertical-align: top;\n",
              "    }\n",
              "\n",
              "    .dataframe thead th {\n",
              "        text-align: right;\n",
              "    }\n",
              "</style>\n",
              "<table border=\"1\" class=\"dataframe\">\n",
              "  <thead>\n",
              "    <tr style=\"text-align: right;\">\n",
              "      <th></th>\n",
              "      <th>Country</th>\n",
              "      <th>Year</th>\n",
              "      <th>Month</th>\n",
              "      <th>Exports (USD Millions)</th>\n",
              "    </tr>\n",
              "  </thead>\n",
              "  <tbody>\n",
              "    <tr>\n",
              "      <th>0</th>\n",
              "      <td>India</td>\n",
              "      <td>2019</td>\n",
              "      <td>March</td>\n",
              "      <td>405</td>\n",
              "    </tr>\n",
              "    <tr>\n",
              "      <th>1</th>\n",
              "      <td>India</td>\n",
              "      <td>2019</td>\n",
              "      <td>April</td>\n",
              "      <td>408</td>\n",
              "    </tr>\n",
              "    <tr>\n",
              "      <th>2</th>\n",
              "      <td>India</td>\n",
              "      <td>2019</td>\n",
              "      <td>May</td>\n",
              "      <td>387</td>\n",
              "    </tr>\n",
              "    <tr>\n",
              "      <th>3</th>\n",
              "      <td>India</td>\n",
              "      <td>2019</td>\n",
              "      <td>June</td>\n",
              "      <td>311</td>\n",
              "    </tr>\n",
              "    <tr>\n",
              "      <th>4</th>\n",
              "      <td>India</td>\n",
              "      <td>2020</td>\n",
              "      <td>March</td>\n",
              "      <td>381</td>\n",
              "    </tr>\n",
              "  </tbody>\n",
              "</table>\n",
              "</div>"
            ],
            "text/plain": [
              "  Country  Year  Month  Exports (USD Millions)\n",
              "0   India  2019  March                     405\n",
              "1   India  2019  April                     408\n",
              "2   India  2019    May                     387\n",
              "3   India  2019   June                     311\n",
              "4   India  2020  March                     381"
            ]
          },
          "metadata": {
            "tags": []
          },
          "execution_count": 4
        }
      ]
    },
    {
      "cell_type": "code",
      "metadata": {
        "colab": {
          "base_uri": "https://localhost:8080/"
        },
        "id": "A5eb2n5Q2Qar",
        "outputId": "e9f1bf01-7020-4b1f-add5-d980ea2c91a3"
      },
      "source": [
        "df.info()"
      ],
      "execution_count": 5,
      "outputs": [
        {
          "output_type": "stream",
          "text": [
            "<class 'pandas.core.frame.DataFrame'>\n",
            "RangeIndex: 48 entries, 0 to 47\n",
            "Data columns (total 4 columns):\n",
            " #   Column                  Non-Null Count  Dtype \n",
            "---  ------                  --------------  ----- \n",
            " 0   Country                 48 non-null     object\n",
            " 1   Year                    48 non-null     int64 \n",
            " 2   Month                   48 non-null     object\n",
            " 3   Exports (USD Millions)  48 non-null     int64 \n",
            "dtypes: int64(2), object(2)\n",
            "memory usage: 1.6+ KB\n"
          ],
          "name": "stdout"
        }
      ]
    },
    {
      "cell_type": "code",
      "metadata": {
        "id": "8qxBd2324-pS"
      },
      "source": [
        "export_2019 = df.loc[df['Year'] == 2019, :]\n",
        "export_2020 = df[df['Year'] == 2020]\n",
        "export_2020"
      ],
      "execution_count": null,
      "outputs": []
    },
    {
      "cell_type": "code",
      "metadata": {
        "colab": {
          "base_uri": "https://localhost:8080/",
          "height": 235
        },
        "id": "qE3l0G2a6X3x",
        "outputId": "7089b506-168e-494b-dfaf-2df60e317ff8"
      },
      "source": [
        "total_export_2019 = export_2019.groupby(['Country'], as_index=False)['Exports (USD Millions)'].sum().sort_values(['Exports (USD Millions)'], ascending=False)\n",
        "total_export_2020\n",
        "total_export_2019"
      ],
      "execution_count": 10,
      "outputs": [
        {
          "output_type": "execute_result",
          "data": {
            "text/html": [
              "<div>\n",
              "<style scoped>\n",
              "    .dataframe tbody tr th:only-of-type {\n",
              "        vertical-align: middle;\n",
              "    }\n",
              "\n",
              "    .dataframe tbody tr th {\n",
              "        vertical-align: top;\n",
              "    }\n",
              "\n",
              "    .dataframe thead th {\n",
              "        text-align: right;\n",
              "    }\n",
              "</style>\n",
              "<table border=\"1\" class=\"dataframe\">\n",
              "  <thead>\n",
              "    <tr style=\"text-align: right;\">\n",
              "      <th></th>\n",
              "      <th>Country</th>\n",
              "      <th>Exports (USD Millions)</th>\n",
              "    </tr>\n",
              "  </thead>\n",
              "  <tbody>\n",
              "    <tr>\n",
              "      <th>5</th>\n",
              "      <td>Vietnam</td>\n",
              "      <td>4064</td>\n",
              "    </tr>\n",
              "    <tr>\n",
              "      <th>0</th>\n",
              "      <td>Bangladesh</td>\n",
              "      <td>2043</td>\n",
              "    </tr>\n",
              "    <tr>\n",
              "      <th>3</th>\n",
              "      <td>India</td>\n",
              "      <td>1511</td>\n",
              "    </tr>\n",
              "    <tr>\n",
              "      <th>2</th>\n",
              "      <td>Honduras</td>\n",
              "      <td>945</td>\n",
              "    </tr>\n",
              "    <tr>\n",
              "      <th>1</th>\n",
              "      <td>El Salvador</td>\n",
              "      <td>625</td>\n",
              "    </tr>\n",
              "    <tr>\n",
              "      <th>4</th>\n",
              "      <td>Nicaragua</td>\n",
              "      <td>571</td>\n",
              "    </tr>\n",
              "  </tbody>\n",
              "</table>\n",
              "</div>"
            ],
            "text/plain": [
              "       Country  Exports (USD Millions)\n",
              "5      Vietnam                    4064\n",
              "0   Bangladesh                    2043\n",
              "3        India                    1511\n",
              "2     Honduras                     945\n",
              "1  El Salvador                     625\n",
              "4    Nicaragua                     571"
            ]
          },
          "metadata": {
            "tags": []
          },
          "execution_count": 10
        }
      ]
    },
    {
      "cell_type": "code",
      "metadata": {
        "colab": {
          "base_uri": "https://localhost:8080/",
          "height": 235
        },
        "id": "_GAkOSTj2ZtI",
        "outputId": "a1508a9e-1c87-4687-8407-c794322df09b"
      },
      "source": [
        "total_export_2020 = export_2020.groupby(['Country'], as_index=False)[['Exports (USD Millions)']].sum()#.sort_values(['Exports (USD Millions)'], ascending=False)\n",
        "total_export_2020"
      ],
      "execution_count": 42,
      "outputs": [
        {
          "output_type": "execute_result",
          "data": {
            "text/html": [
              "<div>\n",
              "<style scoped>\n",
              "    .dataframe tbody tr th:only-of-type {\n",
              "        vertical-align: middle;\n",
              "    }\n",
              "\n",
              "    .dataframe tbody tr th {\n",
              "        vertical-align: top;\n",
              "    }\n",
              "\n",
              "    .dataframe thead th {\n",
              "        text-align: right;\n",
              "    }\n",
              "</style>\n",
              "<table border=\"1\" class=\"dataframe\">\n",
              "  <thead>\n",
              "    <tr style=\"text-align: right;\">\n",
              "      <th></th>\n",
              "      <th>Country</th>\n",
              "      <th>Exports (USD Millions)</th>\n",
              "    </tr>\n",
              "  </thead>\n",
              "  <tbody>\n",
              "    <tr>\n",
              "      <th>0</th>\n",
              "      <td>Bangladesh</td>\n",
              "      <td>1318</td>\n",
              "    </tr>\n",
              "    <tr>\n",
              "      <th>1</th>\n",
              "      <td>El Salvador</td>\n",
              "      <td>189</td>\n",
              "    </tr>\n",
              "    <tr>\n",
              "      <th>2</th>\n",
              "      <td>Honduras</td>\n",
              "      <td>306</td>\n",
              "    </tr>\n",
              "    <tr>\n",
              "      <th>3</th>\n",
              "      <td>India</td>\n",
              "      <td>777</td>\n",
              "    </tr>\n",
              "    <tr>\n",
              "      <th>4</th>\n",
              "      <td>Nicaragua</td>\n",
              "      <td>350</td>\n",
              "    </tr>\n",
              "    <tr>\n",
              "      <th>5</th>\n",
              "      <td>Vietnam</td>\n",
              "      <td>3272</td>\n",
              "    </tr>\n",
              "  </tbody>\n",
              "</table>\n",
              "</div>"
            ],
            "text/plain": [
              "       Country  Exports (USD Millions)\n",
              "0   Bangladesh                    1318\n",
              "1  El Salvador                     189\n",
              "2     Honduras                     306\n",
              "3        India                     777\n",
              "4    Nicaragua                     350\n",
              "5      Vietnam                    3272"
            ]
          },
          "metadata": {
            "tags": []
          },
          "execution_count": 42
        }
      ]
    },
    {
      "cell_type": "code",
      "metadata": {
        "id": "-OB-jbbo4vAe"
      },
      "source": [
        "#to substarct values from one df to another and print specified columns\n",
        "#df3 = df1[['Lat1', 'Lon1']]\n",
        "#df3['tp1-tp2'] = df1.tp1 - df2.tp2\n",
        "export_difference = total_export_2020[['Country']]\n",
        "export_difference['Exports (USD Millions)'] = total_export_2020['Exports (USD Millions)'].subtract(total_export_2019['Exports (USD Millions)'])\n",
        "export_difference = export_difference.sort_values(['Exports (USD Millions)'], ascending=True)\n",
        "export_difference"
      ],
      "execution_count": null,
      "outputs": []
    },
    {
      "cell_type": "code",
      "metadata": {
        "colab": {
          "base_uri": "https://localhost:8080/",
          "height": 653
        },
        "id": "W1m6bNJGHyb0",
        "outputId": "2aaad54d-8168-40a7-f344-8f551a891f68"
      },
      "source": [
        "sns.set_theme(style='white', context='notebook')\n",
        "#sns.set_style(\"dark\")\n",
        "fig, (ax1, ax2, ax3) = plt.subplots(3, 1, figsize=(7,9), sharex=False)\n",
        "\n",
        "sns.barplot(x=export_difference['Country'], y=total_export_2019['Exports (USD Millions)'], palette='deep', ax=ax1)\n",
        "ax1.set_ylim(bottom =0, top =4200)\n",
        "ax1.axhline(1, color='white', clip_on=False)\n",
        "ax1.set_title(\"Apparel Export to USA in 2019\");\n",
        "\n",
        "sns.barplot(x=export_difference['Country'], y=total_export_2020['Exports (USD Millions)'], palette='vlag', ax=ax2)\n",
        "ax2.set_ylim(bottom =0, top =4000)\n",
        "ax2.axhline(1, color='white', clip_on=False)\n",
        "ax2.set_title(\"Apparel Export to USA in 2020\");\n",
        "\n",
        "sns.barplot(x=export_difference['Country'], y=export_difference['Exports (USD Millions)'], palette='rocket', ax=ax3)\n",
        "ax3.set_ylim(bottom =-800, top =0)\n",
        "ax3.axhline(4, color='black', clip_on=True)\n",
        "ax3.set_title(\"Plunge in Apparel Export to USA from 2019 to 2020\", fontsize=13);\n",
        "\n",
        "sns.despine(bottom=True)\n",
        "plt.setp(fig.axes, xlabel=(''))\n",
        "plt.tight_layout(h_pad=2)\n",
        "plt.savefig('apparelexport.png', dpi = 300)"
      ],
      "execution_count": 92,
      "outputs": [
        {
          "output_type": "display_data",
          "data": {
            "image/png": "[encoded data removed]",
            "text/plain": [
              "<Figure size 504x648 with 3 Axes>"
            ]
          },
          "metadata": {
            "tags": []
          }
        }
      ]
    },
    {
      "cell_type": "code",
      "metadata": {
        "id": "6CL4YdZl-0qh"
      },
      "source": [
        ""
      ],
      "execution_count": null,
      "outputs": []
    }
  ]
}